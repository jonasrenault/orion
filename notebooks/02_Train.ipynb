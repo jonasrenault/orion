{
 "cells": [
  {
   "cell_type": "markdown",
   "id": "b16172d3-4aaf-4b8d-b9e1-b67f8322e01d",
   "metadata": {},
   "source": [
    "# Fine-tune a YOLO12 detection model\n",
    "\n",
    "This notebook will train a [YOLO12](https://github.com/ultralytics/ultralytics) model for tank detection using publicly available annotated images of tanks. As the notebook will run the training with `PyTorch`, it is recommended to have GPUs available.\n",
    "**This notebook expects that the dataset created in the notebook [01_Prepare](./01_Prepare.ipynb) has been saved to disk and `dataset_dir` points to it.**"
   ]
  },
  {
   "cell_type": "code",
   "execution_count": null,
   "id": "f10fd763",
   "metadata": {},
   "outputs": [],
   "source": [
    "from orion.config.settings import settings\n",
    "\n",
    "dataset_dir = settings.ORION_HOME_DIR / \"dataset\""
   ]
  },
  {
   "cell_type": "markdown",
   "id": "55a0513e-7034-4949-b2f7-07423bfdfaca",
   "metadata": {},
   "source": [
    "### Train a YOLO12 model"
   ]
  },
  {
   "cell_type": "markdown",
   "id": "5c987c05-848b-439e-8705-0735b100180f",
   "metadata": {},
   "source": [
    "We'll train a `YOLO12` base model on the dataset we created in the previous notebook. We use the `yolo12n.pt` (nano) base model, which provides a good comprise between size and speed, but other models are available from ultralytics. Simply replace `yolo12n.pt` with the size you want (`n`, `s`, `m`, `l` or `x`)."
   ]
  },
  {
   "cell_type": "code",
   "execution_count": null,
   "id": "b6999159-b029-4cd7-97ed-68b40311cbc8",
   "metadata": {},
   "outputs": [],
   "source": [
    "from pathlib import Path\n",
    "\n",
    "from orion.yolo.yolo import train\n",
    "\n",
    "model_dir = Path() / \"runs\" / \"train\"\n",
    "results_train = train(\n",
    "    \"yolo12n.pt\",\n",
    "    data=dataset_dir / \"dataset.yaml\",\n",
    "    epochs=60,\n",
    "    batch=64,\n",
    "    output=model_dir,\n",
    "    exist_ok=True,\n",
    ")"
   ]
  },
  {
   "cell_type": "markdown",
   "id": "93614090-c4ea-4121-8e85-b85c5d49bec5",
   "metadata": {},
   "source": [
    "### Use the fine-tuned model to predict detections"
   ]
  },
  {
   "cell_type": "markdown",
   "id": "307d024f-a83a-490f-80ff-020165dc8231",
   "metadata": {},
   "source": [
    "Once our model is trained, we can use it to predict detections on our test dataset. Simply pass the path to the best model weights and the directory containing the test images to the `predict` function."
   ]
  },
  {
   "cell_type": "code",
   "execution_count": null,
   "id": "712aefbd-757a-4184-8de6-4203a517f794",
   "metadata": {},
   "outputs": [],
   "source": [
    "from orion.yolo.yolo import predict\n",
    "\n",
    "best_model = model_dir / \"weights\" / \"best.pt\"\n",
    "results_predict = predict(best_model, dataset_dir / \"images\" / \"test\")\n",
    "\n",
    "# Load the path of the prediction model results\n",
    "results_predict_dir = Path(results_predict[0].save_dir) # type: ignore"
   ]
  },
  {
   "cell_type": "markdown",
   "id": "71ef120f-376b-4218-ba8b-fdb5baad96c2",
   "metadata": {},
   "source": [
    "### Evaluate model predictions"
   ]
  },
  {
   "cell_type": "markdown",
   "id": "a9c3470a-653b-4552-a750-90238b94039e",
   "metadata": {},
   "source": [
    "We can then evaluate our model by loading the predictions in a Fiftyone dataset view of our test data. We first load the dataset and then select the images tagged as part of the test set."
   ]
  },
  {
   "cell_type": "code",
   "execution_count": null,
   "id": "6ca88686",
   "metadata": {},
   "outputs": [],
   "source": [
    "import fiftyone as fo\n",
    "from fiftyone.types.dataset_types import YOLOv5Dataset\n",
    "\n",
    "# The splits to load\n",
    "splits = [\"train\", \"val\", \"test\"]\n",
    "\n",
    "# Load the dataset, using tags to mark the samples in each split\n",
    "dataset = fo.Dataset()\n",
    "for split in splits:\n",
    "    dataset.add_dir(\n",
    "        dataset_dir=dataset_dir, dataset_type=YOLOv5Dataset, split=split, tags=split\n",
    "    )"
   ]
  },
  {
   "cell_type": "code",
   "execution_count": null,
   "id": "0d17c385-0934-41d4-952c-d25364780bbc",
   "metadata": {},
   "outputs": [],
   "source": [
    "# The test split of the dataset\n",
    "test_view = dataset.match_tags(\"test\")"
   ]
  },
  {
   "cell_type": "markdown",
   "id": "20ccadc7-987c-4aff-91ec-d44da3370dde",
   "metadata": {},
   "source": [
    "Then we can load the model predictions as fields of the images in our test view."
   ]
  },
  {
   "cell_type": "code",
   "execution_count": null,
   "id": "5ebffeaa-46b3-4f96-8e5b-db0531e8d6f8",
   "metadata": {},
   "outputs": [],
   "source": [
    "from orion.yolo.utils import add_yolo_detections\n",
    "\n",
    "prediction_field = \"yolo12\"\n",
    "predictions_dir = results_predict_dir / \"labels\"\n",
    "add_yolo_detections(\n",
    "    test_view,\n",
    "    prediction_field=prediction_field,\n",
    "    predictions_dir=predictions_dir,\n",
    "    class_list=[\"AFV\", \"APC\", \"MEV\", \"LAV\"],\n",
    ")"
   ]
  },
  {
   "cell_type": "markdown",
   "id": "c06d3a9f-aabe-43a5-b264-c0d935194b0e",
   "metadata": {},
   "source": [
    "Finally, we can evaluate our model's predictions and print the mean Average Precision (mAP)."
   ]
  },
  {
   "cell_type": "code",
   "execution_count": null,
   "id": "f04724f1-42ff-424c-bc65-b8b7f76d097c",
   "metadata": {},
   "outputs": [],
   "source": [
    "detection_results = test_view.evaluate_detections(\n",
    "    prediction_field,\n",
    "    eval_key=\"eval\",\n",
    "    compute_mAP=True,\n",
    "    gt_field=\"ground_truth\",\n",
    ")"
   ]
  },
  {
   "cell_type": "code",
   "execution_count": null,
   "id": "ba9326b5-b4fc-49d9-96ff-a21293e8bd86",
   "metadata": {},
   "outputs": [],
   "source": [
    "mAP = detection_results.mAP()\n",
    "print(f\"mAP = {mAP}\")"
   ]
  },
  {
   "cell_type": "code",
   "execution_count": null,
   "id": "6818e918-1a61-4ac7-a403-e1e59b3fe9d4",
   "metadata": {},
   "outputs": [],
   "source": [
    "detection_results.print_report()"
   ]
  }
 ],
 "metadata": {
  "kernelspec": {
   "display_name": "orion",
   "language": "python",
   "name": "python3"
  },
  "language_info": {
   "codemirror_mode": {
    "name": "ipython",
    "version": 3
   },
   "file_extension": ".py",
   "mimetype": "text/x-python",
   "name": "python",
   "nbconvert_exporter": "python",
   "pygments_lexer": "ipython3",
   "version": "3.12.6"
  }
 },
 "nbformat": 4,
 "nbformat_minor": 5
}
